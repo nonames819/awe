{
 "cells": [
  {
   "cell_type": "code",
   "execution_count": 1,
   "metadata": {},
   "outputs": [
    {
     "name": "stdout",
     "output_type": "stream",
     "text": [
      "/data/chd_data/envs/awe_venv/lib/python3.9/site-packages/PIL/__init__.py\n"
     ]
    }
   ],
   "source": [
    "import PIL\n",
    "print(PIL.__file__)"
   ]
  }
 ],
 "metadata": {
  "kernelspec": {
   "display_name": "awe_venv",
   "language": "python",
   "name": "python3"
  },
  "language_info": {
   "codemirror_mode": {
    "name": "ipython",
    "version": 3
   },
   "file_extension": ".py",
   "mimetype": "text/x-python",
   "name": "python",
   "nbconvert_exporter": "python",
   "pygments_lexer": "ipython3",
   "version": "3.9.21"
  }
 },
 "nbformat": 4,
 "nbformat_minor": 2
}
