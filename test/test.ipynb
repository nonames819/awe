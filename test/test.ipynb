{
 "cells": [
  {
   "cell_type": "markdown",
   "metadata": {},
   "source": [
    "*problem: GLIBCXX 3.4.30 not found in conda environment*\n",
    "\n",
    "solution: \n",
    "check:\n",
    "strings /usr/lib/x86_64-linux-gnu/libstdc++.so.6 | grep GLIBCXX\n",
    "then change:\n",
    "ln -sf /usr/lib/x86_64-linux-gnu/libstdc++.so.6 /home/anavani/anaconda3/envs/dmcgb/bin/../lib/libstdc++.so.6"
   ]
  },
  {
   "cell_type": "markdown",
   "metadata": {},
   "source": [
    "* Convert delta actions to absolute actions\n",
    "```bash\n",
    "python utils/robomimic_convert_action.py --dataset=robomimic/datasets/lift/ph/low_dim.hdf5\n",
    "```\n",
    "\n",
    "* Save waypoints\n",
    "```bash\n",
    "python utils/robomimic_save_waypoints.py --dataset=robomimic/datasets/lift/ph/low_dim.hdf5 --err_threshold=0.005\n",
    "```\n",
    "\n",
    "* Replay waypoints (save 3 videos and 3D visualizations by default)\n",
    "```bash\n",
    "mkdir video\n",
    "python example/robomimic_waypoint_replay.py --dataset=robomimic/datasets/lift/ph/low_dim.hdf5 \\\n",
    "    --record_video --video_path video/lift_waypoint.mp4 --task=lift \\\n",
    "    --plot_3d --auto_waypoint --err_threshold=0.005\n",
    "\n",
    "* Train DP\n",
    "python diffusion_policy/train.py --config-dir=config --config-name=waypoint_image_lift_ph_diffusion_policy_transformer.yaml hydra.run.dir='data/outputs/${now:%Y.%m.%d}/${now:%H.%M.%S}_${name}_${task_name}'"
   ]
  },
  {
   "cell_type": "code",
   "execution_count": null,
   "metadata": {},
   "outputs": [],
   "source": [
    "import mujoco_py"
   ]
  },
  {
   "cell_type": "code",
   "execution_count": null,
   "metadata": {},
   "outputs": [],
   "source": []
  }
 ],
 "metadata": {
  "kernelspec": {
   "display_name": "awe_venv",
   "language": "python",
   "name": "python3"
  },
  "language_info": {
   "codemirror_mode": {
    "name": "ipython",
    "version": 3
   },
   "file_extension": ".py",
   "mimetype": "text/x-python",
   "name": "python",
   "nbconvert_exporter": "python",
   "pygments_lexer": "ipython3",
   "version": "3.9.21"
  }
 },
 "nbformat": 4,
 "nbformat_minor": 2
}
